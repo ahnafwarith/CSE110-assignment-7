{
 "cells": [
  {
   "cell_type": "raw",
   "id": "2a2491b0",
   "metadata": {},
   "source": [
    "Task 1\n",
    "Suppose you have a list named my_list as given below.\n",
    "my_list = [10, 1, 20, 3, 6, 2, 5, 11, 15, 2, 12, 14, 17, 18, 29]\n",
    "Now use bubble sort to sort my_list into ascending order.\n",
    "===============================================================\n",
    "Output:\n",
    "[1, 2, 2, 3, 5, 6, 10, 11, 12, 14, 15, 17, 18, 20, 29]"
   ]
  },
  {
   "cell_type": "code",
   "execution_count": 4,
   "id": "7f66e8bf",
   "metadata": {},
   "outputs": [
    {
     "name": "stdout",
     "output_type": "stream",
     "text": [
      "[1, 2, 2, 3, 5, 6, 10, 11, 12, 14, 15, 17, 18, 20, 29]\n"
     ]
    }
   ],
   "source": [
    "myList = [10, 1, 20, 3, 6, 2, 5, 11, 15, 2, 12, 14, 17, 18, 29]\n",
    "for i in range(len(myList)-1):\n",
    "    for j in range(len(myList)-i-1):\n",
    "        if (myList[j] > myList[j+1]):\n",
    "            myList[j+1] , myList[j] = myList[j] , myList[j+1]\n",
    "print(myList)\n",
    "# myList = [10,17,9,21,2]\n",
    "# for i in range(0,len(myList)):\n",
    "#     for j in range(0,len(myList)-1-i):\n",
    "#         if (myList[j]>myList[j+1]):            \n",
    "#             temp = myList[j]\n",
    "#             myList[j] = myList[j+1]\n",
    "#             myList[j+1] = temp\n",
    "# print(myList)"
   ]
  },
  {
   "cell_type": "raw",
   "id": "feef8521",
   "metadata": {},
   "source": [
    "Task 2\n",
    "Suppose you have a list named my_list as given below\n",
    "my_list= [10, 1, 20, 3, 6, 2, 5, 11, 15, 2, 12, 14, 17, 18, 29]\n",
    "Now use selection sort to sort my_list into ascending order.\n",
    "===============================================================\n",
    "Output:\n",
    "[1, 2, 2, 3, 5, 6, 10, 11, 12, 14, 15, 17, 18, 20, 29]"
   ]
  },
  {
   "cell_type": "code",
   "execution_count": 26,
   "id": "ea374ac2",
   "metadata": {},
   "outputs": [
    {
     "name": "stdout",
     "output_type": "stream",
     "text": [
      "[1, 2, 2, 3, 5, 6, 10, 11, 12, 14, 15, 17, 18, 20, 29]\n"
     ]
    }
   ],
   "source": [
    "myList = [10, 1, 20, 3, 6, 2, 5, 11, 15, 2, 12, 14, 17, 18, 29]\n",
    "for i in range(len(myList)):\n",
    "    mini = myList[i]\n",
    "    for j in range(i,len(myList)):\n",
    "        if mini > myList[j]:\n",
    "            mini = myList[j]\n",
    "            myList[j] = myList[i]  #clear the tracing confusion after line 7 and line 8 interchange\n",
    "            myList[i] = mini\n",
    "print(myList)\n",
    "# for i in range(len(myList)):\n",
    "#     mini = myList[i]\n",
    "#     for j in range(i,len(myList)):\n",
    "#         if mini > myList[j]:\n",
    "#             mini = myList[j]\n",
    "#             myList[j] = myList[i]\n",
    "#             myList[i] = mini\n",
    "# print(myList)"
   ]
  },
  {
   "cell_type": "raw",
   "id": "74692b9c",
   "metadata": {},
   "source": [
    "# Task 3\n",
    "Suppose you have a list named my_list as given below.\n",
    "my_list = [10, 1, 20, 3, 6, 2, 5, 11, 15, 2, 12, 14, 17, 18, 29]\n",
    "Now use any of the two sorting techniques you have used above to sort the list in\n",
    "descending order.\n",
    "===============================================================\n",
    "Output:\n",
    "[29, 20, 18, 17, 15, 14, 12, 11, 10, 6, 5, 3, 2, 2, 1]"
   ]
  },
  {
   "cell_type": "code",
   "execution_count": 5,
   "id": "5c04940d",
   "metadata": {},
   "outputs": [
    {
     "name": "stdout",
     "output_type": "stream",
     "text": [
      "[29, 20, 18, 17, 15, 14, 12, 11, 10, 6, 5, 3, 2, 2, 1]\n"
     ]
    }
   ],
   "source": [
    "myList = [10, 1, 20, 3, 6, 2, 5, 11, 15, 2, 12, 14, 17, 18, 29]\n",
    "for i in range(len(myList)-1):\n",
    "    for j in range(len(myList)-i-1):\n",
    "        if (myList[j] < myList[j+1]):\n",
    "            myList[j] , myList[j+1] = myList[j+1] , myList[j]\n",
    "print(myList)"
   ]
  },
  {
   "cell_type": "raw",
   "id": "1d3fa05f",
   "metadata": {},
   "source": [
    "Task 4\n",
    "\n",
    "Suppose you have a sitting arrangement of the students who will give the final exam in a\n",
    "list. The list contains the last two digits of their student ID as given below.\n",
    "\n",
    "sitting_list = [10,30,20,70,11,15,22,16,58,100,12,56,70,80]\n",
    "Now you want to organize the sitting arrangement of the students in your own way. You\n",
    "decide to sort all the students in the even indices of the list in ascending order and all\n",
    "the students in the odd indices of the list in descending order.\n",
    "So, write a python program that organizes the list for you in this way.\n",
    "===============================================================\n",
    "Output:\n",
    "[10, 100, 11, 80, 12, 70, 20, 56, 22, 30, 58, 16, 70, 15]"
   ]
  },
  {
   "cell_type": "code",
   "execution_count": 1,
   "id": "7c3fcfb0",
   "metadata": {},
   "outputs": [
    {
     "name": "stdout",
     "output_type": "stream",
     "text": [
      "[10, 70, 11, 30, 15, 22, 16, 58, 20, 20, 22, 100, 12, 16, 30, 15, 56, 12, 58, 56, 70, 11, 70, 70, 80, 10, 100, 80]\n"
     ]
    }
   ],
   "source": [
    "# How to approach?\n",
    "myList = [10,30,20,70,11,15,22,16,58,100,12,56,70,80]\n",
    "myList1 = myList.copy()\n",
    "for i in range(0,len(myList)-1,2):\n",
    "    for j in range(len(myList)-i-1):\n",
    "        if (myList[j] > myList[j+1]):\n",
    "            myList[j] , myList[j+1] = myList[j+1] , myList[j]\n",
    "for i in range(1,len(myList1)-1,2):\n",
    "    for j in range(len(myList1)-i-1):\n",
    "        if (myList1[j] < myList1[j+1]):\n",
    "            myList1[j] , myList1[j+1] = myList1[j+1] , myList1[j]\n",
    "finalLst = []\n",
    "for i in range(len(myList)):\n",
    "    finalLst.append(myList[i])\n",
    "    finalLst.append(myList1[i])\n",
    "print(finalLst)"
   ]
  },
  {
   "cell_type": "raw",
   "id": "e5af5770",
   "metadata": {},
   "source": [
    "Task 5\n",
    "\n",
    "Suppose a list contains marks earned in the courses CSE110, PHY111, and MAT110 of\n",
    "each student consecutively in a nested list form. Your task is to take a course name as\n",
    "input from the user and sort the list based on the marks obtained in that course to\n",
    "finally print the names of the students in descending order of marks obtained i.e. from\n",
    "the student who earned the highest marks to the student who earned the lowest.\n",
    "For example, the list may look like\n",
    "lst = [ [\"Alan\", 95, 87, 91], [\"Turing\", 92, 90, 83], [\"Elon\", 87, 92, 80], [\"Musk\", 85, 94, 90] ]\n",
    "where for each nested list, 1st index holds the name of the student, 2nd index is total\n",
    "marks earned in the CSE110 course, 3rd index is PHY111 marks and 4th index is\n",
    "MAT110 marks.\n",
    "===============================================================\n",
    "Hint:\n",
    "You may create a function for sorting, then call it whenever needed instead of rewriting\n",
    "the code.\n",
    "You may get the data in the individual lists from the given nested list.\n",
    "===============================================================\n",
    "Sample Input 1\n",
    "MAT110\n",
    "Sample Output 1\n",
    "Alan\n",
    "Musk\n",
    "\n",
    "Turing\n",
    "Elon\n",
    "Explanation:\n",
    "Here the user gives us \"MAT110\" as the course name. Now, the students Alan, Turing,\n",
    "Elon, and Musk earned 91, 83, 80, and 90 marks respectively in this course. If we sort it,\n",
    "Alan got the highest marks of 91 followed by Musk with 90 marks and Turing with 83\n",
    "marks. Among these 4 students, Elon obtained the lowest marks in the MAT110 course\n",
    "with 80 marks. All of these have been illustrated in our sample output.\n",
    "===============================================================\n",
    "Sample Input 2\n",
    "PHY111\n",
    "Sample Output 2\n",
    "Musk\n",
    "Elon\n",
    "Turing\n",
    "Alan"
   ]
  },
  {
   "cell_type": "code",
   "execution_count": 21,
   "id": "0b1786d1",
   "metadata": {},
   "outputs": [
    {
     "name": "stdout",
     "output_type": "stream",
     "text": [
      "Enter the course: MAT110\n",
      "Alan\n",
      "Musk\n",
      "Turing\n",
      "Elon\n"
     ]
    }
   ],
   "source": [
    "lst = [ [\"Alan\", 95, 87, 91], [\"Turing\", 92, 90, 83], [\"Elon\", 87, 92, 80], [\"Musk\", 85, 94, 90] ]\n",
    "def asSort (myList):\n",
    "    for i in range(len(myList)-1):\n",
    "        for j in range(len(myList)-i-1):\n",
    "            if (myList[j] > myList[j+1]):\n",
    "                myList[j+1] , myList[j] = myList[j] , myList[j+1]\n",
    "    return myList\n",
    "def disSort (myList):\n",
    "    for i in range(len(myList)-1):\n",
    "        for j in range(len(myList)-i-1):\n",
    "            if (myList[j] < myList[j+1]):\n",
    "                myList[j+1] , myList[j] = myList[j] , myList[j+1]\n",
    "    return myList\n",
    "inp = input(\"Enter the course: \").upper()\n",
    "def checker (inp):\n",
    "    lst2 = []\n",
    "    for i in lst:\n",
    "        if inp == 'CSE110':\n",
    "            lst2.append(i[1])                    \n",
    "        elif inp == 'PHY111':\n",
    "            lst2.append(i[2])\n",
    "        elif inp == 'MAT110':\n",
    "            lst2.append(i[3])\n",
    "    maxi, secMaxi, thiMaxi, mini = asSort(lst2)[3], asSort(lst2)[2], asSort(lst2)[1], asSort(lst2)[0] \n",
    "    for x in lst:\n",
    "        if (inp == 'CSE110'):\n",
    "            if maxi == x[1]:\n",
    "                person1 = x[0]\n",
    "            if secMaxi == x[1]:\n",
    "                person2 = x[0]\n",
    "            if thiMaxi == x[1]:\n",
    "                person3 = x[0]\n",
    "            if mini == x[1]:\n",
    "                person4 = x[0]\n",
    "        elif(inp == 'PHY111'):\n",
    "            if maxi == x[2]:\n",
    "                person1 = x[0]\n",
    "            if secMaxi == x[2]:\n",
    "                person2 = x[0]\n",
    "            if thiMaxi == x[2]:\n",
    "                person3 = x[0]\n",
    "            if mini == x[2]:\n",
    "                person4 = x[0]\n",
    "        else:\n",
    "            if maxi == x[3]:\n",
    "                person1 = x[0]\n",
    "            if secMaxi == x[3]:\n",
    "                person2 = x[0]\n",
    "            if thiMaxi == x[3]:\n",
    "                person3 = x[0]\n",
    "            if mini == x[3]:\n",
    "                person4 = x[0]\n",
    "    print(person1)\n",
    "    print(person2)\n",
    "    print(person3)\n",
    "    print(person4)\n",
    "checker (inp)"
   ]
  },
  {
   "cell_type": "raw",
   "id": "f6251913",
   "metadata": {},
   "source": [
    "Task 6\n",
    "\n",
    "Suppose you have a list named my_list as given below. Your task is to sort the list in\n",
    "ascending order and print the count of numbers that have changed their positions in the\n",
    "process of sorting.\n",
    "my_list = [4, 2, 3, 1, 6, 5]\n",
    "The sorted list would be [1, 2, 3, 4, 5, 6] where 4 numbers (4, 1, 6, and 5) have changed\n",
    "their positions. Therefore our sample output here would be 4. Please check if your code\n",
    "is working correctly by changing the above list and using the knowledge given here to\n",
    "verify whether your code gives the correct output for all different lists.\n",
    "Sample Output for the above list\n",
    "4"
   ]
  },
  {
   "cell_type": "code",
   "execution_count": 23,
   "id": "81fda8de",
   "metadata": {},
   "outputs": [
    {
     "name": "stdout",
     "output_type": "stream",
     "text": [
      "[1, 2, 3, 4, 5, 6] 6\n"
     ]
    }
   ],
   "source": [
    "# Why count not working?\n",
    "myList = [4, 2, 3, 1, 6, 5]\n",
    "count = 0\n",
    "for i in range(len(myList)-1):\n",
    "    for j in range(len(myList)-i-1):\n",
    "        if (myList[j] > myList[j+1]):\n",
    "            myList[j+1] , myList[j] = myList[j] , myList[j+1]\n",
    "            if ():    \n",
    "                count += 1\n",
    "print(myList,count)"
   ]
  },
  {
   "cell_type": "raw",
   "id": "e342b63b",
   "metadata": {},
   "source": [
    "Task 7\n",
    "\n",
    "Write a python program that takes two lists from the user, merges the two lists, sorts the\n",
    "resulting list, and then finds the median of the elements in the two lists.\n",
    "=====================================================\n",
    "Sample Input 1\n",
    "list_one = [1, 2, 1, 4]\n",
    "list_two = [5, 4, 1]\n",
    "Sample Output 1\n",
    "Sorted list = [1, 1, 1, 2, 4, 4, 5]\n",
    "Median = 2\n",
    "=====================================================\n",
    "Sample Input 2\n",
    "list_one = [1, 7, 9, 10]\n",
    "list_two = [2, 7, 6, 5]\n",
    "Sample Output 2\n",
    "Sorted list = [1, 2, 5, 6, 7, 7, 9, 10]\n",
    "Median = 6.5"
   ]
  },
  {
   "cell_type": "code",
   "execution_count": 38,
   "id": "70a36353",
   "metadata": {},
   "outputs": [
    {
     "name": "stdout",
     "output_type": "stream",
     "text": [
      "[1, 7, 9, 10]\n",
      "[2, 7, 6, 5]\n",
      "Sorted List = [1, 2, 5, 6, 7, 7, 9, 10]\n",
      "Median = 5\n"
     ]
    }
   ],
   "source": [
    "# Median problem\n",
    "inV1 = input()\n",
    "inV2 = input()\n",
    "listOne = inV1[1:-1:].split(', ')\n",
    "listTwo = inV2[1:-1:].split(', ')\n",
    "fListOne = []\n",
    "fListTwo = []\n",
    "for i in listOne:\n",
    "    fListOne.append(int(i))\n",
    "for i in listTwo:\n",
    "    fListTwo.append(int(i))\n",
    "sortedList = fListOne + fListTwo\n",
    "for i in range(len(sortedList)-1):\n",
    "    for j in range(len(sortedList)-i-1):\n",
    "        if (sortedList[j]>sortedList[j+1]):\n",
    "            sortedList[j],sortedList[j+1]=sortedList[j+1],sortedList[j]\n",
    "total = 0\n",
    "for i in sortedList:\n",
    "    total += i\n",
    "if len(sortedList) % 2 == 0:\n",
    "    mean = total // len(sortedList)\n",
    "else:\n",
    "    mean = total+1 // len(sortedList)\n",
    "print(\"Sorted List =\",sortedList)\n",
    "print(\"Median =\",mean)"
   ]
  },
  {
   "cell_type": "raw",
   "id": "7d993906",
   "metadata": {},
   "source": [
    "Task 8\n",
    "\n",
    "Write a python program that takes a list from a user containing both positive and\n",
    "negative numbers. The program then finds two pairs of values whose summation is\n",
    "closest to zero.\n",
    "=====================================================\n",
    "Sample Input 1\n",
    "list_one = [-10, 15, 2, 4, -4, 7, -8]\n",
    "Sample Output 1\n",
    "Two pairs which have the smallest sum = 4 and -4\n",
    "=====================================================\n",
    "Sample Input 2\n",
    "list_one = [1, -8, 4, -7, -20, 26, 70, -85]\n",
    "Sample Output 2\n",
    "\n",
    "Two pairs which have the smallest sum = 4 and -7"
   ]
  },
  {
   "cell_type": "code",
   "execution_count": 37,
   "id": "f18396e5",
   "metadata": {},
   "outputs": [
    {
     "name": "stdout",
     "output_type": "stream",
     "text": [
      "[-10, 15, 2, 4, -4, 7, -8]\n",
      "-18\n"
     ]
    }
   ],
   "source": [
    "# How to find closest to zero?\n",
    "inV1 = input()\n",
    "listOne = inV1[1:-1:].split(', ')\n",
    "fListOne = []\n",
    "smallestSum = 10000000000000000\n",
    "for i in listOne:\n",
    "    fListOne.append(int(i))\n",
    "for i in range(len(fListOne)):\n",
    "    for j in range(i+1,len(fListOne)):\n",
    "        if (fListOne[i]+fListOne[j]) < smallestSum:\n",
    "            smallestSum = fListOne[i] + fListOne[j]\n",
    "print(smallestSum)"
   ]
  },
  {
   "cell_type": "raw",
   "id": "c3e4d617",
   "metadata": {},
   "source": [
    "Task 9\n",
    "\n",
    "You will be given a list of tuples where each tuple indicates a point i.e. (x, y) in a\n",
    "2-dimensional coordinate system.\n",
    "You need to write a python program to find the minimum distance and the point that is\n",
    "closest to the origin i.e. (0,0)\n",
    "=====================================================\n",
    "Hint:\n",
    "The formula of distance = √((Δx)2+(Δy)2\n",
    ")\n",
    "\n",
    "As you are calculating the distance from the origin (0,0), you can simply use\n",
    "distance = √(x2+y2\n",
    ")\n",
    "\n",
    "You can create a list of distances from each point and sort that list using your personal\n",
    "favorite sorting algorithm.\n",
    "=====================================================\n",
    "Sample Input 1\n",
    "points = [(5,3), (2,9), (-2,7), (-3,-4), (0,6), (7,-2)]\n",
    "Sample Output 1\n",
    "Minimum distance = 5.0\n",
    "Here the closest point is (-3,-4) which has a distance of 5.0 from the origin.\n",
    "=====================================================\n",
    "Sample Input 1\n",
    "points = [(1,7), (4,5), (-1,7), (-2,0), (1,1), (5,-1)]\n",
    "Sample Output 1\n",
    "Minimum distance = 1.4142135623730951\n",
    "Here the closest point is (1,1) which has a distance of 1.4142135623730951 from the\n",
    "origin."
   ]
  },
  {
   "cell_type": "code",
   "execution_count": null,
   "id": "0fd44e11",
   "metadata": {},
   "outputs": [],
   "source": []
  }
 ],
 "metadata": {
  "kernelspec": {
   "display_name": "Python 3 (ipykernel)",
   "language": "python",
   "name": "python3"
  },
  "language_info": {
   "codemirror_mode": {
    "name": "ipython",
    "version": 3
   },
   "file_extension": ".py",
   "mimetype": "text/x-python",
   "name": "python",
   "nbconvert_exporter": "python",
   "pygments_lexer": "ipython3",
   "version": "3.9.7"
  }
 },
 "nbformat": 4,
 "nbformat_minor": 5
}
